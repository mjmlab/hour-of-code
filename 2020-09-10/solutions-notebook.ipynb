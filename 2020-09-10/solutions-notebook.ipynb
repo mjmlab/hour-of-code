{
 "cells": [
  {
   "cell_type": "code",
   "execution_count": null,
   "metadata": {},
   "outputs": [],
   "source": [
    "## Sanity Check, look away or you will turn into stone\n",
    "import sys\n",
    "# Check that python versions are correct\n",
    "assert sys.version_info.major == 3\n",
    "assert sys.version_info.minor == 6\n",
    "\n",
    "__author__ = \"Emanuel Burgos\"\n",
    "__email__ = \"eburgos@wisc.edu\""
   ]
  },
  {
   "cell_type": "markdown",
   "metadata": {},
   "source": [
    "# Hour of Code with Mandel Lab #3\n",
    "\n",
    "# 2020-09-10: Conditional Statements in Python\n",
    "\n",
    "Textbook: [Python for Biologists](https://pythonforbiologists.com/) by Dr. Martin Jones\n",
    "\n",
    "### Guidelines:\n",
    "\n",
    "- Notebooks is sectioned by headers. Each one will have small exercises that we can practice with as the discussion goes on. With each practice cell, there is an test cell that you can run to verify your solution. DO NOT MODIFY THIS IN ANY WAY. You will run this code to verify your solution but do not change the code within it.\n",
    "\n",
    "Have fun."
   ]
  },
  {
   "cell_type": "markdown",
   "metadata": {},
   "source": [
    "## Conditional Statements\n",
    "\n",
    "- Allow for you program to **make** decisions.\n",
    "\n",
    "### Conditions\n",
    "\n",
    "- *Conditions* are pieces of code that **evaluate** to `True` or `False`\n",
    "\n",
    "- `True` or `False` are  called **boolean** (type `bool()`).\n",
    "\n",
    "> It is not a literal **string**. In python `True` and `\"True\"` are different things!\n",
    "\n",
    "> Also, in python `0` == `False` and `1` == True.\n",
    "\n",
    "> **Strings** and **lists** can be used as conditions! If they are empty, it evaluates to `False`\n",
    "\n",
    "- There are many ways to write a **condition** using *operators*:\n",
    "    - equal (`==`)\n",
    "    - does not equal (`!=`)\n",
    "    - less than (`<`)\n",
    "    - less than or equal (`<=`)\n",
    "    - more than (`>`)\n",
    "    - more or equal than (`>=`)\n",
    "    - in a collection (`in`)\n",
    "    - is the same object (`is`)\n",
    "    - returns the opposite boolen (`not`)\n",
    "    - if one condition is True, return True (`or`)\n",
    "    - both conditions have to be True (`and`)\n",
    "\n",
    "> **Two** equal signs checks equality, **one** is used for variable assignment\n",
    "--------\n",
    "```python\n",
    "x = True\n",
    "y = False\n",
    "```\n",
    "---------"
   ]
  },
  {
   "cell_type": "code",
   "execution_count": 15,
   "metadata": {},
   "outputs": [
    {
     "name": "stdout",
     "output_type": "stream",
     "text": [
      "True False\n"
     ]
    }
   ],
   "source": [
    "# check type\n",
    "print(x,y)"
   ]
  },
  {
   "cell_type": "markdown",
   "metadata": {},
   "source": [
    "- You can also assign the evaluation of a **condition** to a **variable**."
   ]
  },
  {
   "cell_type": "code",
   "execution_count": 1,
   "metadata": {},
   "outputs": [
    {
     "data": {
      "text/plain": [
       "False"
      ]
     },
     "execution_count": 1,
     "metadata": {},
     "output_type": "execute_result"
    }
   ],
   "source": [
    "# Check if 5 is bigger than 10\n",
    "bigger_than_10 = 5 > 10\n",
    "# What do you expect the variable is holding?\n",
    "bigger_than_10"
   ]
  },
  {
   "cell_type": "code",
   "execution_count": 6,
   "metadata": {},
   "outputs": [
    {
     "name": "stdout",
     "output_type": "stream",
     "text": [
      "True\n",
      "False\n",
      "False\n",
      "True\n",
      "True\n",
      "True\n",
      "True\n",
      "True\n",
      "False\n"
     ]
    }
   ],
   "source": [
    "### Lets try some\n",
    "print(2 == 2)\n",
    "print(100 == 0)\n",
    "print(3 > 10)\n",
    "print(20 <= 20)\n",
    "print( 1 in [0,1,2] )\n",
    "print(not False)\n",
    "print(True or False)\n",
    "print(True and True)\n",
    "print(True and False)"
   ]
  },
  {
   "cell_type": "code",
   "execution_count": 24,
   "metadata": {},
   "outputs": [],
   "source": [
    "## Practice\n",
    "# USING CONDITIONS, check if the substring `UAG` is inside `rna_string`. \n",
    "# Assign a boolean value to `codon_in_rna` if the codon is found or not in \n",
    "# Hint: There is an operator that checks for item in a collection, it also works with strings\n",
    "\n",
    "codon_in_rna = None\n",
    "codon_in_rna_2 = None\n",
    "\n",
    "rna_string = 'GACGACAUGAGUCCGCAUGCGAAAGUCGAUAGGGCACAGU'\n",
    "rna_string_2 = 'GGAGCGAUGACCACACCCAAGGAGAUGUGCGAAGAUGGCGUGCCAUAACA'"
   ]
  },
  {
   "cell_type": "code",
   "execution_count": 23,
   "metadata": {},
   "outputs": [
    {
     "ename": "NameError",
     "evalue": "name 'codon_in_rna' is not defined",
     "output_type": "error",
     "traceback": [
      "\u001b[0;31m---------------------------------------------------------------------------\u001b[0m",
      "\u001b[0;31mNameError\u001b[0m                                 Traceback (most recent call last)",
      "\u001b[0;32m<ipython-input-23-74fd192b8514>\u001b[0m in \u001b[0;36m<module>\u001b[0;34m\u001b[0m\n\u001b[0;32m----> 1\u001b[0;31m \u001b[0;32massert\u001b[0m \u001b[0mcodon_in_rna\u001b[0m\u001b[0;34m\u001b[0m\u001b[0;34m\u001b[0m\u001b[0m\n\u001b[0m\u001b[1;32m      2\u001b[0m \u001b[0;32massert\u001b[0m \u001b[0;32mnot\u001b[0m \u001b[0mcodon_in_rna_2\u001b[0m\u001b[0;34m\u001b[0m\u001b[0;34m\u001b[0m\u001b[0m\n",
      "\u001b[0;31mNameError\u001b[0m: name 'codon_in_rna' is not defined"
     ]
    }
   ],
   "source": [
    "assert codon_in_rna\n",
    "assert not codon_in_rna_2"
   ]
  },
  {
   "cell_type": "code",
   "execution_count": 27,
   "metadata": {},
   "outputs": [
    {
     "data": {
      "text/plain": [
       "False"
      ]
     },
     "execution_count": 27,
     "metadata": {},
     "output_type": "execute_result"
    }
   ],
   "source": [
    "## Solution\n",
    "codon_in_rna = 'UAG' in rna_string\n",
    "codon_in_rna_2 = 'UAG' in rna_string_2"
   ]
  },
  {
   "cell_type": "markdown",
   "metadata": {},
   "source": [
    "### `if`\n",
    "\n",
    "- `if` is a special **keyword** in python that evaluates if a *condition* is `True` or `False`.\n",
    "- **Condition** can be explicit or a variable that holds a `bool` type.\n",
    "-----\n",
    "```python\n",
    "# if `condition`\n",
    "if True:\n",
    "    # Print executes\n",
    "    print('I execute just fine.')\n",
    "\n",
    "if False:\n",
    "    # Will never execute\n",
    "    print('I will never be printed')\n",
    "```\n",
    "-----\n"
   ]
  },
  {
   "cell_type": "code",
   "execution_count": 9,
   "metadata": {},
   "outputs": [
    {
     "name": "stdout",
     "output_type": "stream",
     "text": [
      "Made makes sense!\n"
     ]
    }
   ],
   "source": [
    "# Try a variable holding `bool`\n",
    "x = 10 + 5 > 10\n",
    "if x:\n",
    "    print('15 is larger than 10, makes sense!')"
   ]
  },
  {
   "cell_type": "markdown",
   "metadata": {},
   "source": [
    "> Condition evaluation proceeds from LEFT to RIGHT and follows PEMDAS (same as mathematical operations). If there is math mixed into the condition, that gets evaluated first."
   ]
  },
  {
   "cell_type": "code",
   "execution_count": 10,
   "metadata": {},
   "outputs": [
    {
     "name": "stdout",
     "output_type": "stream",
     "text": [
      "One of them must be True\n"
     ]
    }
   ],
   "source": [
    "# More complicated example, try or\n",
    "x = 10 + 5 > 10\n",
    "y = 5 == 0\n",
    "if x or y:\n",
    "    print('One of them must be True')"
   ]
  },
  {
   "cell_type": "code",
   "execution_count": 11,
   "metadata": {},
   "outputs": [],
   "source": [
    "# Try and\n",
    "if x and y:\n",
    "    print('Ok both need to be True, you will never see me')"
   ]
  },
  {
   "cell_type": "code",
   "execution_count": 33,
   "metadata": {},
   "outputs": [
    {
     "name": "stdout",
     "output_type": "stream",
     "text": [
      "25 is in x!\n"
     ]
    }
   ],
   "source": [
    "## Practice\n",
    "# Check if value is inside list `x` AND less or equal than 25\n",
    "\n",
    "# Change me\n",
    "value = 25\n",
    "x = [i for i in range(30)]\n",
    "in_x = False\n",
    "\n",
    "# Change me\n",
    "if value in x and value <= 25:\n",
    "    in_x = True\n",
    "    print('25 is in x!')"
   ]
  },
  {
   "cell_type": "code",
   "execution_count": 34,
   "metadata": {},
   "outputs": [],
   "source": [
    "assert in_x"
   ]
  },
  {
   "cell_type": "code",
   "execution_count": null,
   "metadata": {},
   "outputs": [],
   "source": [
    "### Solution\n",
    "# condition should be: value in x and value <= 25"
   ]
  },
  {
   "cell_type": "code",
   "execution_count": 41,
   "metadata": {},
   "outputs": [],
   "source": [
    "### How about more complicated if statements?\n",
    "# Check if a value is even!\n",
    "# Hint: Use the modulo operator '%' which returns the REMAINDER after division. Ex. 5 % 4 = 1\n",
    "\n",
    "count = 0\n",
    "for i in [1,2,3,4,5,6]:\n",
    "    # Change me\n",
    "    if i % 2 == 0:\n",
    "        count += 1"
   ]
  },
  {
   "cell_type": "code",
   "execution_count": 42,
   "metadata": {},
   "outputs": [],
   "source": [
    "### Solution\n",
    "# condition should be: i % 2 == 0"
   ]
  },
  {
   "cell_type": "code",
   "execution_count": 43,
   "metadata": {},
   "outputs": [],
   "source": [
    "assert count == 3"
   ]
  },
  {
   "cell_type": "markdown",
   "metadata": {},
   "source": [
    "### `elif`\n",
    "\n",
    "- `elif` is evaluated **only** when `if` evaluates to `False`.\n",
    "- `if` evaluates to `True`, `elif` is **ignored**\n",
    "- You can have multiple `elif`, first one to evaluate `True` wins!\n",
    "---\n",
    "```python\n",
    "if False:\n",
    "    print('Will never execute')\n",
    "elif True:\n",
    "    print('Elif will execute because if is false and I am TRUE')\n",
    "```\n",
    "---"
   ]
  },
  {
   "cell_type": "code",
   "execution_count": 21,
   "metadata": {},
   "outputs": [
    {
     "name": "stdout",
     "output_type": "stream",
     "text": [
      "Elif will execute because if is false\n"
     ]
    }
   ],
   "source": [
    "# Run code\n",
    "if False:\n",
    "    print('Will never execute')\n",
    "elif True:\n",
    "    print('Elif will execute because if is false and I am TRUE')"
   ]
  },
  {
   "cell_type": "code",
   "execution_count": null,
   "metadata": {},
   "outputs": [],
   "source": [
    "## What about both True?\n",
    "if True:\n",
    "    print('Will execute')\n",
    "elif True:\n",
    "    print('Elif will NOT execute because `if` is True')"
   ]
  },
  {
   "cell_type": "markdown",
   "metadata": {},
   "source": [
    "> Only when `if` is `False` will `elif` be EVALUATED. If you want to also evaluate `elif` regardless of what happens, just use multiple `if` statements."
   ]
  },
  {
   "cell_type": "markdown",
   "metadata": {},
   "source": [
    "### `else`\n",
    "\n",
    "- Executes when `if` or `elif` evaluate `False`\n",
    "- DOES NOT TAKE A CONDITION\n",
    "\n",
    "```python\n",
    "if False:\n",
    "    print('Nothing happens')\n",
    "else:\n",
    "    print('I always execute if everything else fails')\n",
    "```\n",
    "\n",
    "> What do you expect might happen if I run `else: print('Hello')` by itself?"
   ]
  },
  {
   "cell_type": "code",
   "execution_count": null,
   "metadata": {},
   "outputs": [],
   "source": [
    "# Run example\n",
    "if False:\n",
    "    print('Nothing happens')\n",
    "else:\n",
    "    print('I always execute if everything else fails')"
   ]
  },
  {
   "cell_type": "code",
   "execution_count": 28,
   "metadata": {},
   "outputs": [
    {
     "name": "stdout",
     "output_type": "stream",
     "text": [
      "I will print this time\n"
     ]
    }
   ],
   "source": [
    "if True:\n",
    "    print('I will print this time')\n",
    "else:\n",
    "    print('I will never print')"
   ]
  },
  {
   "cell_type": "markdown",
   "metadata": {},
   "source": [
    "### Combining `if`, `elif`, `else`\n",
    "\n",
    "- You can combine these conditional tests to add decision-making to your code.\n",
    "\n",
    "```python\n",
    "x = [-1,0,1,2,3,4,-5,5,6,7,8,9,10,]\n",
    "\n",
    "for i in x:\n",
    "    if x in [0,1,2,3,4]:\n",
    "        print('I am between 0 and 3')\n",
    "    elif x in [5,6,7,8,9,10]:\n",
    "        print('I am between 5 and 10')  \n",
    "    else:\n",
    "        print('x is larger than 10 or negative')\n",
    "```"
   ]
  },
  {
   "cell_type": "code",
   "execution_count": 20,
   "metadata": {},
   "outputs": [
    {
     "name": "stdout",
     "output_type": "stream",
     "text": [
      "x is larger than 10 or negative\n",
      "I am between 0 and 3\n",
      "I am between 0 and 3\n",
      "I am between 0 and 3\n",
      "I am between 0 and 3\n",
      "I am between 0 and 3\n",
      "x is larger than 10 or negative\n",
      "I am between 5 and 10\n",
      "I am between 5 and 10\n",
      "I am between 5 and 10\n",
      "I am between 5 and 10\n",
      "I am between 5 and 10\n",
      "I am between 5 and 10\n"
     ]
    }
   ],
   "source": [
    "x = [-1,0,1,2,3,4,-5,5,6,7,8,9,10,]\n",
    "for i in x:\n",
    "    if i in [0,1,2,3,4]:\n",
    "        print('I am between 0 and 3')\n",
    "    elif i in [5,6,7,8,9,10]:\n",
    "        print('I am between 5 and 10')  \n",
    "    else:\n",
    "        print('x is larger than 10 or negative')"
   ]
  },
  {
   "cell_type": "code",
   "execution_count": null,
   "metadata": {},
   "outputs": [],
   "source": [
    "## Advanced Practice\n",
    "# You need to assign some letter grades based on scores. Write conditional tests that print the correct letter grade given `score`\n",
    "\n",
    "## Criteria ##\n",
    "# A above or equal than 90\n",
    "# B above or equal than 80\n",
    "# C above or equal than 70\n",
    "# D above or equal than 65\n",
    "# F under 65\n",
    "\n",
    "scores = [66,98,40,77,34,54,100]\n",
    "for score in scores:\n",
    "    ### Your tests go here\n",
    "    if\n",
    "    ..."
   ]
  },
  {
   "cell_type": "markdown",
   "metadata": {},
   "source": [
    "## While Loops\n",
    "\n",
    "- A kind of loop that keeps executing block of code while condition is `True`\n",
    "\n",
    "```python\n",
    "while True:\n",
    "    print('I am infinite')\n",
    "    break\n",
    "print('Not really')\n",
    "```\n",
    "\n",
    "- `while` loops can be terminated with the **keyword** `break`. Try removing the break from the example above.\n",
    "- Another useful **keyword** `continue` which jumps back to the while loop\n",
    "> There might be some times where you get stuck on an **infinite loop**. Do not worry, we all have been there. To stop execution, just click the `stop` button on the tool bar. If running from Terminal, use `command + z`."
   ]
  },
  {
   "cell_type": "code",
   "execution_count": null,
   "metadata": {},
   "outputs": [],
   "source": [
    "# Run infinite\n",
    "while True:\n",
    "    print('I am infinite')\n",
    "    break"
   ]
  },
  {
   "cell_type": "code",
   "execution_count": 32,
   "metadata": {},
   "outputs": [
    {
     "name": "stdout",
     "output_type": "stream",
     "text": [
      "0\n",
      "1\n",
      "2\n",
      "3\n",
      "4\n",
      "5\n",
      "6\n",
      "7\n",
      "9\n",
      "10\n"
     ]
    },
    {
     "data": {
      "text/plain": [
       "47"
      ]
     },
     "execution_count": 32,
     "metadata": {},
     "output_type": "execute_result"
    }
   ],
   "source": [
    "# Example\n",
    "# Find the sum of the numbers 0 to 10 (inclusive) but skip 8!\n",
    "n = 0\n",
    "total_sum = 0\n",
    "while n <= 10:\n",
    "    if n == 8:\n",
    "        n = n + 1\n",
    "        continue\n",
    "    print(n)\n",
    "    total_sum = total_sum + n\n",
    "    n = n + 1\n",
    "    \n",
    "total_sum"
   ]
  },
  {
   "cell_type": "code",
   "execution_count": null,
   "metadata": {},
   "outputs": [],
   "source": [
    "### Solution\n",
    "for grade in scores:\n",
    "    if grade >= 90:\n",
    "        print(\"A\")\n",
    "    elif grade >= 80:\n",
    "        print(\"B\")\n",
    "    elif grade >= 70:\n",
    "        print(\"C\")\n",
    "    elif grade >= 65:\n",
    "        print(\"D\")\n",
    "    else:\n",
    "        print(\"F\")"
   ]
  }
 ],
 "metadata": {
  "kernelspec": {
   "display_name": "Python 3",
   "language": "python",
   "name": "python3"
  },
  "language_info": {
   "codemirror_mode": {
    "name": "ipython",
    "version": 3
   },
   "file_extension": ".py",
   "mimetype": "text/x-python",
   "name": "python",
   "nbconvert_exporter": "python",
   "pygments_lexer": "ipython3",
   "version": "3.8.3"
  }
 },
 "nbformat": 4,
 "nbformat_minor": 4
}
