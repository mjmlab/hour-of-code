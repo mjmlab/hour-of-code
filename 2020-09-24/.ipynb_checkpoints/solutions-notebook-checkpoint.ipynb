{
 "cells": [
  {
   "cell_type": "code",
   "execution_count": null,
   "metadata": {
    "jupyter": {
     "source_hidden": true
    }
   },
   "outputs": [],
   "source": [
    "## Sanity Check, look away or you will turn into stone\n",
    "import sys\n",
    "# Check that python versions are correct\n",
    "assert sys.version_info.major == 3\n",
    "assert sys.version_info.minor == 6\n",
    "\n",
    "__author__ = \"Emanuel Burgos\"\n",
    "__email__ = \"eburgos@wisc.edu\""
   ]
  },
  {
   "cell_type": "markdown",
   "metadata": {},
   "source": [
    "# Hour of Code with Mandel Lab #4\n",
    "\n",
    "# 2020-09-24: Python Problems\n",
    "\n",
    "Textbook: [Python for Biologists](https://pythonforbiologists.com/) by Dr. Martin Jones\n",
    "\n",
    "\n",
    "\n",
    "### Guidelines:\n",
    "\n",
    "- Notebooks is sectioned by headers. Each one will have small exercises that we can practice with as the discussion goes on. With each practice cell, there is an test cell that you can run to verify your solution. DO NOT MODIFY THIS IN ANY WAY. You will run this code to verify your solution but do not change the code within it. Have fun."
   ]
  },
  {
   "cell_type": "markdown",
   "metadata": {},
   "source": [
    "## Easy\n",
    "\n",
    "The file `data.csv` has gene records for *Drosophila melangester* species that we will be using"
   ]
  },
  {
   "cell_type": "code",
   "execution_count": null,
   "metadata": {},
   "outputs": [],
   "source": [
    "## READ IN YOUR DATA\n",
    "data = []\n",
    "with open('data.csv', 'r') as f:\n",
    "    for line in f:\n",
    "        data.append(line.strip().split(','))\n",
    "data"
   ]
  },
  {
   "cell_type": "markdown",
   "metadata": {},
   "source": [
    "1. #### Several Species\n",
    "- Print out gene names for all genes belonging to *Drosophila melanogaster* or *Drosophila simulans*."
   ]
  },
  {
   "cell_type": "code",
   "execution_count": null,
   "metadata": {},
   "outputs": [],
   "source": [
    "### YOUR SOLUTION HERE"
   ]
  },
  {
   "cell_type": "markdown",
   "metadata": {},
   "source": [
    "2. #### Length range\n",
    "- Print out gene names for all genes between 90 and 110 bases long."
   ]
  },
  {
   "cell_type": "code",
   "execution_count": null,
   "metadata": {},
   "outputs": [],
   "source": [
    "### YOUR SOLUTION HERE"
   ]
  },
  {
   "cell_type": "markdown",
   "metadata": {},
   "source": [
    "3. ####  AT Content\n",
    "- Print out gene names for all genes whose AT content is less than 0.5 and whose expresssion level is greater than 200"
   ]
  },
  {
   "cell_type": "code",
   "execution_count": null,
   "metadata": {},
   "outputs": [],
   "source": [
    "### YOUR SOLUTION HERE"
   ]
  },
  {
   "cell_type": "markdown",
   "metadata": {},
   "source": [
    "4. #####  Complex Condition\n",
    "- Print out gene names for all genes whoser names begins with \"k\" or \"h\" except those that belong to "
   ]
  },
  {
   "cell_type": "code",
   "execution_count": null,
   "metadata": {},
   "outputs": [],
   "source": [
    "### YOUR SOLUTION HERE"
   ]
  },
  {
   "cell_type": "markdown",
   "metadata": {},
   "source": [
    "## Hard\n",
    "\n",
    "- I found this **side** exercise from Exercism which I thought summarizes well what we learned today. If you cannot solve it today, do not worry. Just keep it as homework\n",
    "- If you know how to use Exercism, go ahead and download the scripts into your computer and use your favorite `IDE` to solve it.\n",
    "- Once you do, post the solution in **Exercism Teams** so you can share it with us and see how others did!\n",
    "\n",
    "#### Introduction\n",
    "\n",
    "##### Translate RNA sequences into proteins.\n",
    "\n",
    "RNA can be broken into three nucleotide sequences called codons, and then translated to a polypeptide like so:\n",
    "\n",
    "RNA: `AUGUUUUCU` => translates to\n",
    "\n",
    "Codons: `AUG`, `UUU`, `UCU` => which become a polypeptide with the following sequence =>\n",
    "\n",
    "Protein: \"Methionine\", \"Phenylalanine\", \"Serine\"\n",
    "\n",
    "There are 64 codons which in turn correspond to 20 amino acids; however, all of the codon sequences and resulting amino acids are not important in this exercise. If it works for one codon, the program should work for all of them. However, feel free to expand the list in the test suite to include them all.\n",
    "\n",
    "There are also three terminating codons (also known as 'STOP' codons); if any of these codons are encountered (by the ribosome), all translation ends and the protein is terminated.\n",
    "\n",
    "All subsequent codons after are ignored, like this:\n",
    "\n",
    "RNA: `AUGUUUUCUUAAAUG` =>\n",
    "\n",
    "Codons: `AUG`, `UUU`, `UCU`, `UAA`, `AUG` =>\n",
    "\n",
    "Protein: \"Methionine\", \"Phenylalanine\", \"Serine\"\n",
    "\n",
    "Note the stop codon \"UAA\" terminates the translation and the final methionine is not translated into the protein sequence.\n",
    "\n",
    "Below are the codons and resulting Amino Acids needed for the exercise.\n",
    "\n",
    "| Codon | Protein |\n",
    "|-|-|\n",
    "| AUG | Methionine |\n",
    "|UUU, UUC | Phenylalanine |\n",
    "|UUA, UUG | Leucine |\n",
    "|UCU, UCC, UCA, UCG | Serine |\n",
    "|UAU, UAC | Tyrosine |\n",
    "|UGU, UGC | Cysteine |\n",
    "|UGG | Tryptophan |\n",
    "|UAA, UAG, UGA | STOP |"
   ]
  },
  {
   "cell_type": "code",
   "execution_count": null,
   "metadata": {},
   "outputs": [],
   "source": []
  }
 ],
 "metadata": {
  "kernelspec": {
   "display_name": "Python 3",
   "language": "python",
   "name": "python3"
  },
  "language_info": {
   "codemirror_mode": {
    "name": "ipython",
    "version": 3
   },
   "file_extension": ".py",
   "mimetype": "text/x-python",
   "name": "python",
   "nbconvert_exporter": "python",
   "pygments_lexer": "ipython3",
   "version": "3.8.3"
  }
 },
 "nbformat": 4,
 "nbformat_minor": 4
}
