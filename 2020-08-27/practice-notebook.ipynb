{
 "cells": [
  {
   "cell_type": "code",
   "execution_count": null,
   "metadata": {
    "jupyter": {
     "source_hidden": true
    }
   },
   "outputs": [],
   "source": [
    "## Sanity Check, look away or you will turn into stone\n",
    "import sys\n",
    "# Check that python versions are correct\n",
    "assert sys.version_info.major == 3\n",
    "assert sys.version_info.minor == 6\n",
    "\n",
    "__author__ = \"Emanuel Burgos\"\n",
    "__email__ = \"eburgos@wisc.edu\""
   ]
  },
  {
   "cell_type": "markdown",
   "metadata": {},
   "source": [
    "# Hour of Code with Mandel Lab #1\n",
    "\n",
    "# 2020-08-27: Introduction to Python\n",
    "\n",
    "Textbook: [Python for Biologists](https://pythonforbiologists.com/) by Dr. Martin Jones\n",
    "\n",
    "- If you are still unsure of why you should learn programming, here is a great [post](https://www.wired.com/2009/03/why-biology-students-should-learn-how-to-program/#:~:text=The%20important%20thing%20is%20learning,an%20increasingly%20data%2Ddriven%20field.)\n",
    "\n",
    "## [Jupyter Notebook](https://jupyter.org/)\n",
    "\n",
    "- Jupyter Notebook is a web-based application for running python code interactively.\n",
    "- It uses a kernel (software that has python in background) to execute your code. If anything goes wrong, just `restart kernel`.\n",
    "- You `run` each code cell with `shift+enter`\n",
    "- Last line of code in block will **ALWAYS** be printed out.\n",
    "\n",
    "### Guidelines:\n",
    "\n",
    "- Notebooks is sectioned by headers. Each one will have small exercises that we can practice with as the discussion goes on. With each practice cell, there is an test cell that you can run to verify your solution. DO NOT MODIFY THIS IN ANY WAY. You will run this code to verify your solution but do not change the code within it. Have fun.\n",
    "\n",
    "## Functions:\n",
    "\n",
    "- Blocks of code that are run when called by the **function name**. A function always ends with a open-close parenthesis and can take **arguments**.\n",
    "- **Arguments** are variables that the **function** can utilize to carry out a computation or process.\n",
    "\n",
    "```python\n",
    "# This function takes an int `x` as its argument\n",
    "def square(x):\n",
    "    \"\"\" Computes square of x \"\"\"\n",
    "    return x * x\n",
    "```\n",
    "\n",
    " - The programmer can define any function they want, otherwise, python has a lot of [built-in](https://docs.python.org/3.6/library/functions.html) functions that we can use out of the box.\n",
    " \n",
    "> Seems like algebra right? Programming adapts a lot of terminology from mathematical fields. Examples of these are *variables*, *functions*, *sets*, etc.\n",
    "\n",
    "- Below are **functions** that we will be useful for this notebook."
   ]
  },
  {
   "cell_type": "code",
   "execution_count": null,
   "metadata": {},
   "outputs": [],
   "source": [
    "# print() is a standard function, takes in a string"
   ]
  },
  {
   "cell_type": "markdown",
   "metadata": {},
   "source": [
    "## Python Variables and Data Types:\n",
    "\n",
    "### Variables \n",
    "\n",
    "In python, we store data into objects called **variables**. These variables are used throughout the program to perform operations. They are assigned using the `=` operator.\n",
    "\n",
    "- There are **six** standard data types that we can use. However, the programmer can design their own data type to satisfy specific computational needs.\n",
    "\n",
    "- There are rules for naming variables:\n",
    "    - Only *underscores*, *letters* and, *numbers* allowed.\n",
    "    - CANNOT **start** with a number\n",
    "    - Case-sensitive. `foo` and `FOO` are TWO different variables\n",
    "    \n",
    "> The python language syntax includes some words that we call **reserved keywords**. These are words that have a special function in python and SHOULD NOT be used as varaible names as this would create havoc and chaos. For example, if you run `print = 200`, you have now lost the `print` function! Do not worry, this is not permament, just restart your kernel."
   ]
  },
  {
   "cell_type": "code",
   "execution_count": null,
   "metadata": {},
   "outputs": [],
   "source": [
    "## What happens if I name variables wrong?"
   ]
  },
  {
   "cell_type": "code",
   "execution_count": null,
   "metadata": {},
   "outputs": [],
   "source": [
    "## Write a good variable name"
   ]
  },
  {
   "cell_type": "markdown",
   "metadata": {},
   "source": [
    "##### Numeric\n",
    "\n",
    "- int (integer): `x = 2`\n",
    "- float (decimal): `x = 2.56544`\n",
    "- complex (imaginary): `x = 1j`\n",
    "\n",
    "##### Text\n",
    "- string (double-quotes): ```x = \"foo\"```\n",
    "- string (single-quotes): `x = 'bar'`\n",
    "\n",
    "##### Logical operators\n",
    "\n",
    "- boolean (logic): `x = True; y = False`\n",
    "\n",
    "\n",
    "> If you do not know the **type** of the value stored in a variable, there is a function called `type()` which returns the the data type of the value that the varibale holds."
   ]
  },
  {
   "cell_type": "code",
   "execution_count": null,
   "metadata": {},
   "outputs": [],
   "source": [
    "# int (Integer)"
   ]
  },
  {
   "cell_type": "code",
   "execution_count": null,
   "metadata": {},
   "outputs": [],
   "source": [
    "# float "
   ]
  },
  {
   "cell_type": "markdown",
   "metadata": {},
   "source": [
    "> Python has *functions* that can convert between different data types. These functions are *int()*, *float()*, *str()*, etc. More can be found [here]()"
   ]
  },
  {
   "cell_type": "code",
   "execution_count": null,
   "metadata": {},
   "outputs": [],
   "source": [
    "## Converting data types\n",
    "convert_this = 40\n",
    "# Convert to string!"
   ]
  },
  {
   "cell_type": "markdown",
   "metadata": {},
   "source": [
    "## Mathematical Operations\n",
    "\n",
    "- Python can perform basic arithmetic operations that follow **PEMDAS**.\n",
    "    - Exponent: `**`\n",
    "    - Multiplication: `*`\n",
    "    - Division: `/`\n",
    "    - Addition: `+`\n",
    "    - Substraction: `-`\n",
    "    - Remainder: `%`"
   ]
  },
  {
   "cell_type": "code",
   "execution_count": null,
   "metadata": {},
   "outputs": [],
   "source": [
    "# Addition\n",
    "# Substraction\n",
    "# Multiplication\n",
    "# Division\n",
    "# Remainder"
   ]
  },
  {
   "cell_type": "markdown",
   "metadata": {},
   "source": [
    "> Using the `/` operator will ALWAYS return a *float* type. If you have a long decimal value, you can use `round()` to round the value to a whole number or to a decimal position."
   ]
  },
  {
   "cell_type": "code",
   "execution_count": null,
   "metadata": {},
   "outputs": [],
   "source": [
    "long_decimal = 3.14159265359"
   ]
  },
  {
   "cell_type": "code",
   "execution_count": null,
   "metadata": {},
   "outputs": [],
   "source": [
    "# You can specify decimal position"
   ]
  },
  {
   "cell_type": "code",
   "execution_count": null,
   "metadata": {},
   "outputs": [],
   "source": [
    "### PRACTICE ### \n",
    "# Use these variables below\n",
    "add_1 = 100\n",
    "div_1 = 500\n",
    "\n",
    "## Replace the 0 with code that uses variables above\n",
    "# add_sol = 358\n",
    "add_sol = 0\n",
    "# div_sol = 125\n",
    "div_sol = 0"
   ]
  },
  {
   "cell_type": "code",
   "execution_count": null,
   "metadata": {},
   "outputs": [],
   "source": [
    "### DO NOT MODIFY ###\n",
    "assert add_sol == 358\n",
    "assert div_sol == 125"
   ]
  },
  {
   "cell_type": "markdown",
   "metadata": {},
   "source": [
    "## Text Processing using Strings\n",
    "\n",
    "Processing text using programming methods provids a lot of versatility and efficiency. As Martin Jones said, \"for biologist it is particularly useful to learn how to effectively manipulate text because of its application to DNA and amino acid sequences.\" This is particulary true when we start scaling our analysis to include multiple genomes that span millions of base pairs. Obviously doing this by hand is a pain, so we turn to programming.\n",
    "\n",
    "- **Strings** is data type that we use in python to represent characters and text\n",
    "- They are defined by using **double** or **single** quotes.\n",
    "- Anything can be a string as long as you use the correct syntax\n",
    "- **STRINGS ARE IMMUTABLE**. This means that if you perform an operation on a string, you have to assign it to a **new** variable"
   ]
  },
  {
   "cell_type": "code",
   "execution_count": null,
   "metadata": {},
   "outputs": [],
   "source": [
    "# strings"
   ]
  },
  {
   "cell_type": "markdown",
   "metadata": {},
   "source": [
    "### String Slicing\n",
    "\n",
    "- *Slicing* is the term we used to describe the operation of taking a smaller subset of a data structure by *indexing*.\n",
    "- Python uses a 0-based index, the first position of a string starts at **0**.\n",
    "- We use the slice notation, `[start:end:step]` to select the **substring** we want to extract.\n",
    "\n",
    "```python\n",
    "text = \"Hello, World\"\n",
    "print(example[0:5])\n",
    "# prints hello\n",
    "```\n",
    "> Python slicing is considered `[inclusive:exclusive]`. This means that the *start* position will be **included** but the end position will be **excluded**\n",
    "\n",
    "- We can use it on **strings** to extract a **substring**"
   ]
  },
  {
   "cell_type": "code",
   "execution_count": null,
   "metadata": {},
   "outputs": [],
   "source": [
    "# Demo text\n",
    "demo_text = \"The quick brown fox jumps over the lazy dog\""
   ]
  },
  {
   "cell_type": "code",
   "execution_count": null,
   "metadata": {},
   "outputs": [],
   "source": [
    "# Use len() to find the LENGTH (number of characters) in a string"
   ]
  },
  {
   "cell_type": "code",
   "execution_count": null,
   "metadata": {},
   "outputs": [],
   "source": [
    "# Lets grab first base"
   ]
  },
  {
   "cell_type": "code",
   "execution_count": null,
   "metadata": {},
   "outputs": [],
   "source": [
    "# How about the first 5?"
   ]
  },
  {
   "cell_type": "code",
   "execution_count": null,
   "metadata": {},
   "outputs": [],
   "source": [
    "# What if I want from index 3 to the end? Use another colon"
   ]
  },
  {
   "cell_type": "code",
   "execution_count": null,
   "metadata": {},
   "outputs": [],
   "source": [
    "# Can I grab from the end? Use negative index, this is called reverse splicing"
   ]
  },
  {
   "cell_type": "code",
   "execution_count": null,
   "metadata": {},
   "outputs": [],
   "source": [
    "# What about reversing a string? Both colons are start, end. -1 is the STEP"
   ]
  },
  {
   "cell_type": "code",
   "execution_count": null,
   "metadata": {},
   "outputs": [],
   "source": [
    "# How about all but last three positions"
   ]
  },
  {
   "cell_type": "code",
   "execution_count": null,
   "metadata": {},
   "outputs": [],
   "source": [
    "### PRACTICE ###\n",
    "# Try to assign the variables below with the \n",
    "string_1 = \"Vibrio fischeri are cool\"\n",
    "\n",
    "# Change the value of these variables by slicing string_1\n",
    "vibrio_name = \"\"\n",
    "fischeri_name = \"\"\n",
    "\n",
    "# Try to solve this one using reverse splicing\n",
    "cool_word = \"\""
   ]
  },
  {
   "cell_type": "code",
   "execution_count": null,
   "metadata": {},
   "outputs": [],
   "source": [
    "### DO NOT MODIFY ###\n",
    "assert vibrio_name == \"Vibrio\"\n",
    "assert fischeri_name == \"fischeri\"\n",
    "assert cool_word == \"cool\""
   ]
  },
  {
   "cell_type": "markdown",
   "metadata": {},
   "source": [
    "### Concatenation\n",
    "\n",
    "- To merge two strings together, we use the `+` operator to concatenate them."
   ]
  },
  {
   "cell_type": "code",
   "execution_count": null,
   "metadata": {},
   "outputs": [],
   "source": [
    "# Lets concat them together"
   ]
  },
  {
   "cell_type": "code",
   "execution_count": null,
   "metadata": {},
   "outputs": [],
   "source": [
    "# How to solve space issue?"
   ]
  },
  {
   "cell_type": "markdown",
   "metadata": {},
   "source": [
    "### String methods\n",
    "\n",
    "- *Methods* are just functions that belong to a specific *object*. They are accessed by using an operator called the **dot operator** (.)\n",
    "\n",
    "> If you are using an `IDE` or interactive python environments, such as jupyter notebooks, you can `tab-complete` code statements.\n",
    "\n",
    "#### *string*.count(substring)\n",
    "\n",
    "- Counts the number of times that substring is in string. Returns an **int**"
   ]
  },
  {
   "cell_type": "code",
   "execution_count": null,
   "metadata": {},
   "outputs": [],
   "source": [
    "# count occurrences of given substring\n"
   ]
  },
  {
   "cell_type": "code",
   "execution_count": null,
   "metadata": {},
   "outputs": [],
   "source": [
    "### PRACTICE ###\n",
    "# Find how many times does the word `cake` is in this string and assign it to `cake_count`\n",
    "cake_string = \"I love cake very much. Chocolate cake, Vanilla cake, Marble cake, I like all of them. I can never stop thinking about cake.\"\n",
    "# Assign the count to `cake_count`\n",
    "cake_count = \"\""
   ]
  },
  {
   "cell_type": "code",
   "execution_count": null,
   "metadata": {},
   "outputs": [],
   "source": [
    "### DO NOT MODIFY ###\n",
    "assert cake_count == 5"
   ]
  },
  {
   "cell_type": "markdown",
   "metadata": {},
   "source": [
    "#### *string*.replace(old, new)\n",
    "\n",
    "- Replaces the substring `old` with `new` inside **string**."
   ]
  },
  {
   "cell_type": "code",
   "execution_count": null,
   "metadata": {},
   "outputs": [],
   "source": [
    "# Lets use this sentence as an example\n",
    "replace_example = \"How much wood can a wood Chuck chuck if a wood Chuck could chuck wood?\"\n"
   ]
  },
  {
   "cell_type": "code",
   "execution_count": null,
   "metadata": {},
   "outputs": [],
   "source": [
    "### PRACTICE ###\n",
    "# Replace all occurrences of dog with `cat` and assign to replace_solution\n",
    "replace_1 = \"Dog jumped over the river\"\n",
    "\n",
    "replace_solution = \"\""
   ]
  },
  {
   "cell_type": "code",
   "execution_count": null,
   "metadata": {},
   "outputs": [],
   "source": [
    "### DO NOT MODIFY ###\n",
    "assert replace_solution == \"cat jumped over the river\""
   ]
  },
  {
   "cell_type": "markdown",
   "metadata": {},
   "source": [
    "#### *string*.lower(substring)\n",
    "\n",
    "- Returns the string with all lowercase characters\n",
    "\n",
    "> Here, I will call *lower()* directly on a string object without assigning it to a variable. This is because the method belongs to **strings** regardless if its stored in a named variable."
   ]
  },
  {
   "cell_type": "code",
   "execution_count": null,
   "metadata": {},
   "outputs": [],
   "source": []
  },
  {
   "cell_type": "markdown",
   "metadata": {},
   "source": [
    "#### *string*.upper(substring)\n",
    "\n",
    "- Returns the string with all uppercase characters"
   ]
  },
  {
   "cell_type": "code",
   "execution_count": null,
   "metadata": {},
   "outputs": [],
   "source": []
  },
  {
   "cell_type": "markdown",
   "metadata": {},
   "source": [
    "### Exercises \n",
    "\n",
    "1. Calculate AT content of DNA sequence.\n",
    "\n",
    "- Given a DNA sequence in `DNA_seq`, find the proportion of A and T nucleotides to the whole length of the sequence. Round to the 2nd decimal position and assign it to content_AT."
   ]
  },
  {
   "cell_type": "code",
   "execution_count": null,
   "metadata": {},
   "outputs": [],
   "source": [
    "DNA_seq = \"GCGAATCGAAGTATGTGACATGTGGATATATGTCTAGAGTAGCGATGGCTATACGAT\"\n",
    "\n",
    "### YOUR SOLUTION HERE ###\n",
    "content_AT = 0"
   ]
  },
  {
   "cell_type": "code",
   "execution_count": null,
   "metadata": {},
   "outputs": [],
   "source": [
    "### DO NOT MODIFY ###\n",
    "assert content_AT == 17.28"
   ]
  },
  {
   "cell_type": "markdown",
   "metadata": {},
   "source": [
    "##### Solution"
   ]
  },
  {
   "cell_type": "code",
   "execution_count": null,
   "metadata": {
    "jupyter": {
     "source_hidden": true
    }
   },
   "outputs": [],
   "source": [
    "## SOLUTION ## \n",
    "seq = \"GCGAATCGAAGTATGTGACATGTGGATATATGTCTAGAGTAGCGATGGCTATACGAT\"\n",
    "count_A = seq.count('A')\n",
    "count_T = seq.count('T')\n",
    "\n",
    "length_seq = len(seq)\n",
    "\n",
    "# Try to predict the type of 'content_AT'\n",
    "content_AT = count_A + count_T / length_seq\n",
    "content_AT"
   ]
  },
  {
   "cell_type": "markdown",
   "metadata": {},
   "source": [
    "2. Find the complement of a DNA sequence\n",
    "\n",
    "- Given `DNA_seq`, find the complement in the 5` -> 3` orientation. String should be in uppercase."
   ]
  },
  {
   "cell_type": "code",
   "execution_count": null,
   "metadata": {},
   "outputs": [],
   "source": [
    "DNA_seq = \"GCGAATCGAAGTATGTGACATGTGGATATATGTCTAGAGTAGCGATGGCTATACGAT\"\n",
    "\n",
    "### YOUR SOLUTION HERE ###\n",
    "complement_seq = \"\""
   ]
  },
  {
   "cell_type": "code",
   "execution_count": null,
   "metadata": {},
   "outputs": [],
   "source": [
    "### DO NOT MODIFY ###\n",
    "assert complement_seq == \"ATCGTATAGCCATCGCTACTCTAGACATATATCCACATGTCACATACTTCGATTCGC\""
   ]
  },
  {
   "cell_type": "code",
   "execution_count": null,
   "metadata": {
    "jupyter": {
     "source_hidden": true
    }
   },
   "outputs": [],
   "source": [
    "### SOLUTION ###\n",
    "seq = \"GCGAATCGAAGTATGTGACATGTGGATATATGTCTAGAGTAGCGATGGCTATACGAT\"\n",
    "\n",
    "seq = seq.replace('A', 't')\n",
    "seq = seq.replace('G', 'c')\n",
    "seq = seq.replace('C', 'g')\n",
    "seq = seq.replace('T', 'a')\n",
    "# Reverse it to get 5` -> 3`\n",
    "complement_seq = seq[::-1]\n",
    "complement_seq.upper()"
   ]
  },
  {
   "cell_type": "markdown",
   "metadata": {},
   "source": [
    "## Expert Mode (you have made it this far, here's a cookie 🍪)\n",
    "\n",
    "- I found this **side** exercise from Exercism which I thought summarizes well what we learned today. If you cannot solve it today, do not worry. Just keep it as homework\n",
    "- If you know how to use Exercism, go ahead and download the scripts into your computer and use your favorite `IDE` to solve it.\n",
    "- Once you do, post the solution in **Exercism Teams** so you can share it with us and see how others did!\n",
    "\n",
    "#### Introduction\n",
    "\n",
    "##### Translate RNA sequences into proteins.\n",
    "\n",
    "RNA can be broken into three nucleotide sequences called codons, and then translated to a polypeptide like so:\n",
    "\n",
    "RNA: `AUGUUUUCU` => translates to\n",
    "\n",
    "Codons: `AUG`, `UUU`, `UCU` => which become a polypeptide with the following sequence =>\n",
    "\n",
    "Protein: \"Methionine\", \"Phenylalanine\", \"Serine\"\n",
    "\n",
    "There are 64 codons which in turn correspond to 20 amino acids; however, all of the codon sequences and resulting amino acids are not important in this exercise. If it works for one codon, the program should work for all of them. However, feel free to expand the list in the test suite to include them all.\n",
    "\n",
    "There are also three terminating codons (also known as 'STOP' codons); if any of these codons are encountered (by the ribosome), all translation ends and the protein is terminated.\n",
    "\n",
    "All subsequent codons after are ignored, like this:\n",
    "\n",
    "RNA: `AUGUUUUCUUAAAUG` =>\n",
    "\n",
    "Codons: `AUG`, `UUU`, `UCU`, `UAA`, `AUG` =>\n",
    "\n",
    "Protein: \"Methionine\", \"Phenylalanine\", \"Serine\"\n",
    "\n",
    "Note the stop codon \"UAA\" terminates the translation and the final methionine is not translated into the protein sequence.\n",
    "\n",
    "Below are the codons and resulting Amino Acids needed for the exercise.\n",
    "\n",
    "| Codon | Protein |\n",
    "|-|-|\n",
    "| AUG | Methionine |\n",
    "|UUU, UUC | Phenylalanine |\n",
    "|UUA, UUG | Leucine |\n",
    "|UCU, UCC, UCA, UCG | Serine |\n",
    "|UAU, UAC | Tyrosine |\n",
    "|UGU, UGC | Cysteine |\n",
    "|UGG | Tryptophan |\n",
    "|UAA, UAG, UGA | STOP |"
   ]
  },
  {
   "cell_type": "code",
   "execution_count": null,
   "metadata": {},
   "outputs": [],
   "source": [
    "### IMPLEMENT SOLUTION HERE ###\n",
    "def proteins(strand):\n",
    "    pass"
   ]
  },
  {
   "cell_type": "code",
   "execution_count": null,
   "metadata": {},
   "outputs": [],
   "source": []
  }
 ],
 "metadata": {
  "kernelspec": {
   "display_name": "Python 3",
   "language": "python",
   "name": "python3"
  },
  "language_info": {
   "codemirror_mode": {
    "name": "ipython",
    "version": 3
   },
   "file_extension": ".py",
   "mimetype": "text/x-python",
   "name": "python",
   "nbconvert_exporter": "python",
   "pygments_lexer": "ipython3",
   "version": "3.8.3"
  }
 },
 "nbformat": 4,
 "nbformat_minor": 4
}
