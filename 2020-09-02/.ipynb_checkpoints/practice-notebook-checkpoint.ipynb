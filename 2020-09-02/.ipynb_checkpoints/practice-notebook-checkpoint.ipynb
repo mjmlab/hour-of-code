{
 "cells": [
  {
   "cell_type": "code",
   "execution_count": null,
   "metadata": {},
   "outputs": [],
   "source": [
    "## Sanity Check, look away or you will turn into stone\n",
    "import sys\n",
    "# Check that python versions are correct\n",
    "assert sys.version_info.major == 3\n",
    "assert sys.version_info.minor == 6\n",
    "\n",
    "__author__ = \"Emanuel Burgos\"\n",
    "__email__ = \"eburgos@wisc.edu\""
   ]
  },
  {
   "cell_type": "markdown",
   "metadata": {},
   "source": [
    "# Hour of Code with Mandel Lab #2\n",
    "\n",
    "# 2020-08-27: More Python Basics\n",
    "\n",
    "Textbook: [Python for Biologists](https://pythonforbiologists.com/) by Dr. Martin Jones\n",
    "\n",
    "- If you are still unsure of why you should learn programming, here is a great [post](https://www.wired.com/2009/03/why-biology-students-should-learn-how-to-program/#:~:text=The%20important%20thing%20is%20learning,an%20increasingly%20data%2Ddriven%20field.)\n",
    "\n",
    "### Guidelines:\n",
    "\n",
    "- Notebooks is sectioned by headers. Each one will have small exercises that we can practice with as the discussion goes on. With each practice cell, there is an test cell that you can run to verify your solution. DO NOT MODIFY THIS IN ANY WAY. You will run this code to verify your solution but do not change the code within it.\n",
    "\n",
    "Have fun.\n",
    "\n",
    "## Opening and Writing Files\n",
    "\n",
    "- As biologists, we are interested in analyzing and manipulating biological sequences (this is literally the sole purpose of bioinformatics...). However, imagine you have a **10Mbp** genome and you want to find a string of a DNA sequence\n",
    "\n",
    "- In python, we can open **any type of file** by using the builtin function `open()`\n",
    "\n",
    "#### `open(file, mode)` - opens a **file** and returns a `file object`. Mode is a string that represents write, read, or append.\n",
    "\n",
    "- `file` is the **RELATIVE PATH** to the location of your file. Lets look at some code.\n",
    "- Modes are `'r', 'w', and 'a'`"
   ]
  },
  {
   "cell_type": "code",
   "execution_count": null,
   "metadata": {},
   "outputs": [],
   "source": [
    "# First lets import os module\n",
    "\n",
    "# Check current working directory\n"
   ]
  },
  {
   "cell_type": "code",
   "execution_count": null,
   "metadata": {},
   "outputs": [],
   "source": [
    "# Whats in the current directory?\n"
   ]
  },
  {
   "cell_type": "code",
   "execution_count": null,
   "metadata": {},
   "outputs": [],
   "source": [
    "# Open rna_sequence.txt in reading mode\n",
    "# <- OPEN IN READING MODE\n"
   ]
  },
  {
   "cell_type": "markdown",
   "metadata": {},
   "source": [
    "> The only thing I want you to remember from this block is that `open()` will return an IO object. IO stands for input and output.\n",
    "\n",
    "### Reading the file into a variable\n",
    "\n",
    "- You can `read` the contents of the file by using the **methods** of a file object through the **dot-operator**.\n",
    "\n",
    "#### `file.readlines()` - converts each line of the file (determined by `\\n`) into a list collection\n",
    "\n",
    "- `\\n` means **newline**. Its equivalent to when you press `enter` when typing and your cursor moves to a newline.\n",
    "\n",
    "> Do not worry, we will cover `list objects` next. For now, think about them as a **collection of things**."
   ]
  },
  {
   "cell_type": "code",
   "execution_count": null,
   "metadata": {},
   "outputs": [],
   "source": [
    "# Read the lines in file\n"
   ]
  },
  {
   "cell_type": "markdown",
   "metadata": {},
   "source": [
    "> Note: Add another cell and try running rna_file.readlines() again! What happened?"
   ]
  },
  {
   "cell_type": "code",
   "execution_count": null,
   "metadata": {},
   "outputs": [],
   "source": [
    "# Run readlines() again\n"
   ]
  },
  {
   "cell_type": "markdown",
   "metadata": {},
   "source": [
    "- Python reads files by using a **pointer**. It starts with the pointer at the **start** of the file (line 0; character 0). Once you `file.readlines()`, you have basically moved the pointer to the **end** of the file."
   ]
  },
  {
   "cell_type": "markdown",
   "metadata": {},
   "source": [
    "### Writing to a file\n",
    "\n",
    "- Just changed the mode to `w`! Then you can use the method `file.write(line)` to add content to the file\n",
    "\n",
    "#### file.write(line) - writes the given line to the file object"
   ]
  },
  {
   "cell_type": "code",
   "execution_count": null,
   "metadata": {},
   "outputs": [],
   "source": [
    "## Write a sentence to a file called 'my_name.txt'\n"
   ]
  },
  {
   "cell_type": "markdown",
   "metadata": {},
   "source": [
    "> If you check \"story.txt\", it should have the sentence written in it."
   ]
  },
  {
   "cell_type": "code",
   "execution_count": 1,
   "metadata": {},
   "outputs": [],
   "source": [
    "## What if we want two lines of story?\n",
    "two_lines_f = open(\"two_lines_story.txt\", 'w')\n",
    "two_lines_f.write(\"Once upon a time\")\n",
    "two_lines_f.write(\"There was a dog named lola.\")\n",
    "# Go check the file..."
   ]
  },
  {
   "cell_type": "markdown",
   "metadata": {},
   "source": [
    "- Python does not know that you want a **newline** each time you call `file.write(line)`.\n",
    "- Computers use **special characters** to specify non-text formatting.\n",
    "- In this case, we should use `\"\\n\"` to add a newline at the end of the line.\n",
    "\n",
    "> Note: There are TONS of **special characters** in programming. For example, `\\t` does NOT translate to the string `\"\\t\"`. It actually tells the program to write a **tab-space**. "
   ]
  },
  {
   "cell_type": "code",
   "execution_count": null,
   "metadata": {},
   "outputs": [],
   "source": [
    "### PRACTICE ###\n",
    "# Now that you know how to add newlines, fix the problem above.\n",
    "two_lines_fixed_f = open('two_lines_story_fixed.txt', 'w')"
   ]
  },
  {
   "cell_type": "code",
   "execution_count": null,
   "metadata": {},
   "outputs": [],
   "source": [
    "## DO NOT TOUCH ## \n",
    "with open(\"two_lines_story_fixed.txt\", 'r') as f:\n",
    "    for line in f.readlines():\n",
    "        assert line.endswith('\\n')"
   ]
  },
  {
   "cell_type": "markdown",
   "metadata": {},
   "source": [
    "### Closing the file\n",
    "\n",
    "- Once you use the file for whatever it is you are doing, you need to **close** it.\n",
    "- This is because python keeps the file in **memory** until you close the **kernel** (python engine). If you are using BIG files, then as your code runs it should close unused files to free up memory\n",
    "\n",
    "##### `file.close()` - closes the stream for the file object"
   ]
  },
  {
   "cell_type": "code",
   "execution_count": null,
   "metadata": {},
   "outputs": [],
   "source": [
    "# Close every file object"
   ]
  },
  {
   "cell_type": "markdown",
   "metadata": {},
   "source": [
    "### Another way to open files...\n",
    "\n",
    "- Another method for opening **files** (or any other object that has __enter__ and __exit__ methods), you can use the **with** keyword.\n",
    "- This is the pythonic way because its more readable and it automatically **closes** the file after you exit the indented block."
   ]
  },
  {
   "cell_type": "code",
   "execution_count": null,
   "metadata": {},
   "outputs": [],
   "source": [
    "# Open file with `with`\n",
    "# The name after `as` keyword is the VARIABLE NAME GIVEN TO FILE OBJECT\n",
    "\n",
    "# Once you leave the 'block'(unindent), python closes the file object"
   ]
  },
  {
   "cell_type": "code",
   "execution_count": null,
   "metadata": {},
   "outputs": [],
   "source": [
    "### PRACTICE ###\n",
    "## There is a file called \"rna_sequence_practice.txt\". Open this file and assign the object to `rna_sequences_file_object`\n",
    "# Read the lines from this file using any method shown above and assign the lines to variable `rna_sequences`.\n",
    "rna_sequences = None\n"
   ]
  },
  {
   "cell_type": "code",
   "execution_count": null,
   "metadata": {},
   "outputs": [],
   "source": [
    "## DO NOT TOUCH\n",
    "assert len(rna_sequences) == 6\n",
    "assert rna_sequences_file_object.closed"
   ]
  },
  {
   "cell_type": "markdown",
   "metadata": {},
   "source": [
    "## Working with lists and Loops\n",
    "\n",
    "### Defining a list\n",
    "\n",
    "- **Lists** are another type of data type in python. Defined by **open-close square brackets** ([ ])\n",
    "- They are meant to function as a collection that holds other **data types** (ints, float, strings, etc...)\n",
    "- Considered to be immutable\n",
    "- Select items by **indexing** (just like strings).\n",
    "\n",
    "```python\n",
    "x = [1,2,3,4,5,6]\n",
    "print(x)\n",
    "# Prints: [1,2,3,4,5,6]\n",
    "```"
   ]
  },
  {
   "cell_type": "code",
   "execution_count": null,
   "metadata": {},
   "outputs": [],
   "source": [
    "# Lets make a random list with strings as the items! ['Mark', 'Hector', 'Denise', 'Emanuel', 'Ruth', 'Jake', 'Natalia']\n"
   ]
  },
  {
   "cell_type": "code",
   "execution_count": null,
   "metadata": {},
   "outputs": [],
   "source": [
    "# How many people? (What function could I use?)\n"
   ]
  },
  {
   "cell_type": "code",
   "execution_count": null,
   "metadata": {},
   "outputs": [],
   "source": [
    "# How can I select items?\n"
   ]
  },
  {
   "cell_type": "markdown",
   "metadata": {},
   "source": [
    "### Adding to list (Using methods!)\n",
    "\n",
    "- Since list is a data type in python, it also has its own methods! It can be accessed by, you guessed it, the **dot operator**.\n",
    "\n",
    "#### `list.append(item)` - adds the provided item to the END of the list"
   ]
  },
  {
   "cell_type": "code",
   "execution_count": null,
   "metadata": {},
   "outputs": [],
   "source": [
    "# Add the lab dog"
   ]
  },
  {
   "cell_type": "markdown",
   "metadata": {},
   "source": [
    "#### `list.insert(index, item)` - inserts item at index\n",
    "\n",
    "- We can also `insert` items at a specific location."
   ]
  },
  {
   "cell_type": "code",
   "execution_count": null,
   "metadata": {},
   "outputs": [],
   "source": [
    "## Add Mandel next to Mark\n"
   ]
  },
  {
   "cell_type": "markdown",
   "metadata": {},
   "source": [
    "- Other methods for list objects."
   ]
  },
  {
   "cell_type": "markdown",
   "metadata": {},
   "source": [
    "#### `list.remove(item)` - removes the item from the list"
   ]
  },
  {
   "cell_type": "code",
   "execution_count": null,
   "metadata": {},
   "outputs": [],
   "source": [
    "# Remove the least important person\n"
   ]
  },
  {
   "cell_type": "markdown",
   "metadata": {},
   "source": [
    "#### `list.index(item)` - finds the index for the item in the list"
   ]
  },
  {
   "cell_type": "code",
   "execution_count": null,
   "metadata": {},
   "outputs": [],
   "source": [
    "# Where is the dog?\n"
   ]
  },
  {
   "cell_type": "code",
   "execution_count": null,
   "metadata": {},
   "outputs": [],
   "source": [
    "### PRACTICE ### \n",
    "# Add `flour` to beginning of ingredients_for_cake and remove the `salt`.\n",
    "# THEN, find the index for `butter` and assign it to `butter_index`\n",
    "ingredients_for_cake = ['butter', 'sugar', 'salt']\n",
    "butter_index = None\n",
    "\n"
   ]
  },
  {
   "cell_type": "code",
   "execution_count": null,
   "metadata": {},
   "outputs": [],
   "source": [
    "## DO NOT TOUCH\n",
    "assert 'flour' in ingredients_for_cake\n",
    "assert not 'salt' in ingredients_for_cake\n",
    "assert butter_index == 1"
   ]
  },
  {
   "cell_type": "markdown",
   "metadata": {},
   "source": [
    "### Immutable, what does this mean\n",
    "\n",
    "- Like in algebra, we assign a **value** to a **variable** where the name of the variable can be called and we expect it to return the correct value (If `x = 4` then whenever we mention `x` it will give me `4`). In python, we call these a **reference variable** because its named is use to reference the actual data it holds.\n",
    "- All objects (data types) in python are either **immutable**, cannot be changed after been created or **mutable**, can be changed after creation and affects future assignments.\n",
    "\n",
    "For example:"
   ]
  },
  {
   "cell_type": "code",
   "execution_count": null,
   "metadata": {},
   "outputs": [],
   "source": [
    "# Assign x to a new variable and perform an operation on that\n"
   ]
  },
  {
   "cell_type": "code",
   "execution_count": null,
   "metadata": {},
   "outputs": [],
   "source": [
    "# Lets change x\n",
    "\n",
    "# What happens to y?\n"
   ]
  },
  {
   "cell_type": "code",
   "execution_count": null,
   "metadata": {},
   "outputs": [],
   "source": [
    "# What happens with lists?\n"
   ]
  },
  {
   "cell_type": "code",
   "execution_count": null,
   "metadata": {},
   "outputs": [],
   "source": [
    "# Lets add to A\n",
    "\n",
    "# What happens to B\n"
   ]
  },
  {
   "cell_type": "markdown",
   "metadata": {},
   "source": [
    "### Looping though items\n",
    "\n",
    "- In programming, we `loops` to iterate (go through each item) of a collection and perform operations on things.\n",
    "- Uses **keywords** `for` and `in` to iterate through the collection. Once you **unindent** iteration has stopped\n",
    "\n",
    "```python\n",
    "for item in collection:\n",
    "    # Do stuff with item\n",
    "```\n",
    "\n",
    "> Keep in mind that indentation is important for python to know that statements belong to the loop!"
   ]
  },
  {
   "cell_type": "code",
   "execution_count": null,
   "metadata": {},
   "outputs": [],
   "source": [
    "## Lets loop through lab people\n",
    "\n",
    "    # Each item will be named person\n"
   ]
  },
  {
   "cell_type": "markdown",
   "metadata": {},
   "source": [
    "- As you have noticed until now, `file.readlines()` returns a list that contains the files lines"
   ]
  },
  {
   "cell_type": "markdown",
   "metadata": {},
   "source": [
    "### List Comprehension\n",
    "\n",
    "- Python sometimes provides **shortcuts** for certain programming operations. One of them is **comprehension**!\n",
    "- Comprehension is used to perform an operation on each item in the collection and return it as a **new** list.\n",
    "\n",
    "```python\n",
    "# Its syntax is:\n",
    "new_list = [x**x for x in [0,1,2,3]] # new_list = [0, 1, 4, 9]\n",
    "```"
   ]
  },
  {
   "cell_type": "markdown",
   "metadata": {},
   "source": [
    "### Exercises\n",
    "\n",
    "- There is a fasta file called **\"exercise_1.fasta\"** which contains **10** DNA reads with adapter sequences that need to be removed.\n",
    "- The adapter sequence is `AAAGGGAAATTTCCCTTT`.\n",
    "- Trim the reads and write them to a file called \"trimmed_reads.fasta\" with the **same header as input**. Each read should be on its own line.\n",
    "- Also, figure out the **length** of the **sequences** after **trimming** and assign it to `sequence_length`.\n",
    "\n",
    "> **HINT:** Remember that `len(string)` counts EVERY character in the string."
   ]
  },
  {
   "cell_type": "code",
   "execution_count": null,
   "metadata": {},
   "outputs": [],
   "source": [
    "### YOUR SOLUTION HERE\n",
    "adapter_to_remove = \"AAAGGGAAATTTCCCTTT\"\n",
    "output_file_name = \"trimmed_reads.fasta\""
   ]
  },
  {
   "cell_type": "code",
   "execution_count": null,
   "metadata": {},
   "outputs": [],
   "source": [
    "## DONT TOUCH ##\n",
    "adapter_to_remove = \"AAAGGGAAATTTCCCTTT\"\n",
    "with open('trimmed_reads.fasta') as f:\n",
    "    for line in f:\n",
    "        if line.startswith('>'):\n",
    "            assert line == '>trim_these_reads\\n'\n",
    "        else:\n",
    "            assert not line.startswith(adapter_to_remove)\n",
    "assert sequence_length == 20"
   ]
  },
  {
   "cell_type": "code",
   "execution_count": null,
   "metadata": {
    "jupyter": {
     "source_hidden": true
    }
   },
   "outputs": [],
   "source": [
    "## SOLUTION ##\n",
    "output = open(\"trimmed_reads.fasta\", 'w')\n",
    "with open('exercise_1.fasta', 'r') as f:\n",
    "    for line in f:\n",
    "        output.write(line.replace(adapter_to_remove, ''))\n",
    "        sequence_length = len(line.replace(adapter_to_remove, ''))\n",
    "output.close()"
   ]
  },
  {
   "cell_type": "code",
   "execution_count": null,
   "metadata": {},
   "outputs": [],
   "source": []
  }
 ],
 "metadata": {
  "kernelspec": {
   "display_name": "Python 3",
   "language": "python",
   "name": "python3"
  },
  "language_info": {
   "codemirror_mode": {
    "name": "ipython",
    "version": 3
   },
   "file_extension": ".py",
   "mimetype": "text/x-python",
   "name": "python",
   "nbconvert_exporter": "python",
   "pygments_lexer": "ipython3",
   "version": "3.8.3"
  }
 },
 "nbformat": 4,
 "nbformat_minor": 4
}
